{
 "cells": [
  {
   "cell_type": "code",
   "execution_count": 1,
   "metadata": {},
   "outputs": [],
   "source": [
    "import re\n",
    "import time\n",
    "\n",
    "import requests\n",
    "from bs4 import BeautifulSoup"
   ]
  },
  {
   "cell_type": "code",
   "execution_count": 2,
   "metadata": {},
   "outputs": [],
   "source": [
    "def parse_archive_article(article):\n",
    "    title = article.find('p').text\n",
    "    part_url = article.find('a')['href']\n",
    "    article_info = article.find('p', class_='smallFont mt10').text\n",
    "    comm_count, date  = article_info.split(' ')\n",
    "\n",
    "    return title, part_url, comm_count, date"
   ]
  },
  {
   "cell_type": "code",
   "execution_count": 3,
   "metadata": {},
   "outputs": [],
   "source": [
    "def gather_articles_from_page(archive_page):\n",
    "    articles = []\n",
    "    article_elems = archive_page.find_all('td')\n",
    "    for article_elem in article_elems:\n",
    "        a_elems = article_elem.find_all('div')\n",
    "        for a in a_elems:\n",
    "            if len(a.find_all('a')) == 1:\n",
    "                articles.append((parse_archive_article(a)))\n",
    "    print(\"Articles scraped: \" + str(len(articles)))\n",
    "    return articles"
   ]
  },
  {
   "cell_type": "code",
   "execution_count": 4,
   "metadata": {},
   "outputs": [],
   "source": [
    "def scrape_page(url_page):\n",
    "    time.sleep(3)\n",
    "    page_archive = requests.get(url_page)\n",
    "    soup = BeautifulSoup(page_archive.content, 'html.parser')\n",
    "    return soup"
   ]
  },
  {
   "cell_type": "code",
   "execution_count": 5,
   "metadata": {},
   "outputs": [],
   "source": [
    "def crawl_archive_pages(pages_count):\n",
    "    articles = []\n",
    "    url_articles_base = \"https://independenttrader.pl/archiwum.html?page=\"\n",
    "    for i in range(pages_count):\n",
    "        p_num = i + 1\n",
    "        print(\"Page: \" + str(p_num))\n",
    "        url_current = url_articles_base + str(p_num)\n",
    "        page_soup = scrape_page(url_current)\n",
    "        temp_articles = gather_articles_from_page(page_soup)\n",
    "        articles += temp_articles\n",
    "    return articles"
   ]
  },
  {
   "cell_type": "code",
   "execution_count": 6,
   "metadata": {},
   "outputs": [
    {
     "name": "stdout",
     "output_type": "stream",
     "text": [
      "Page: 1\n",
      "Articles scraped: 50\n",
      "Page: 2\n",
      "Articles scraped: 50\n",
      "Page: 3\n",
      "Articles scraped: 50\n",
      "Page: 4\n",
      "Articles scraped: 50\n",
      "Page: 5\n",
      "Articles scraped: 50\n",
      "Page: 6\n",
      "Articles scraped: 50\n",
      "Page: 7\n",
      "Articles scraped: 50\n",
      "Page: 8\n",
      "Articles scraped: 50\n",
      "Page: 9\n",
      "Articles scraped: 50\n",
      "Page: 10\n",
      "Articles scraped: 50\n",
      "Page: 11\n",
      "Articles scraped: 50\n",
      "Page: 12\n",
      "Articles scraped: 50\n",
      "Page: 13\n",
      "Articles scraped: 50\n",
      "Page: 14\n",
      "Articles scraped: 50\n",
      "Page: 15\n",
      "Articles scraped: 50\n",
      "Page: 16\n",
      "Articles scraped: 50\n",
      "Page: 17\n",
      "Articles scraped: 26\n"
     ]
    }
   ],
   "source": [
    "articles = crawl_archive_pages(17)"
   ]
  },
  {
   "cell_type": "code",
   "execution_count": 9,
   "metadata": {},
   "outputs": [],
   "source": [
    "def save_articles(articles):\n",
    "    with open('trader_articles.csv', 'w', encoding='utf8') as csv_out:\n",
    "        idx = 0\n",
    "        for article in articles[::-1]:\n",
    "            idx += 1\n",
    "            csv_out.write(str(idx) + ',' + (','.join(article) + '\\n'))"
   ]
  },
  {
   "cell_type": "code",
   "execution_count": 10,
   "metadata": {},
   "outputs": [],
   "source": [
    "save_articles(articles)"
   ]
  },
  {
   "cell_type": "code",
   "execution_count": null,
   "metadata": {},
   "outputs": [],
   "source": []
  }
 ],
 "metadata": {
  "kernelspec": {
   "display_name": "Python 3",
   "language": "python",
   "name": "python3"
  },
  "language_info": {
   "codemirror_mode": {
    "name": "ipython",
    "version": 3
   },
   "file_extension": ".py",
   "mimetype": "text/x-python",
   "name": "python",
   "nbconvert_exporter": "python",
   "pygments_lexer": "ipython3",
   "version": "3.6.7"
  }
 },
 "nbformat": 4,
 "nbformat_minor": 2
}
