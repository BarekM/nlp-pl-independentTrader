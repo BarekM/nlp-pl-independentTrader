{
 "cells": [
  {
   "cell_type": "code",
   "execution_count": 67,
   "metadata": {},
   "outputs": [],
   "source": [
    "import re\n",
    "\n",
    "import requests\n",
    "from bs4 import BeautifulSoup"
   ]
  },
  {
   "cell_type": "code",
   "execution_count": 98,
   "metadata": {},
   "outputs": [
    {
     "data": {
      "text/plain": [
       "<Response [200]>"
      ]
     },
     "execution_count": 98,
     "metadata": {},
     "output_type": "execute_result"
    }
   ],
   "source": [
    "url_articles = 'https://independenttrader.pl/archiwum.html?page=1'\n",
    "\n",
    "page_archive = requests.get(url_articles)\n",
    "page_archive"
   ]
  },
  {
   "cell_type": "code",
   "execution_count": 139,
   "metadata": {},
   "outputs": [],
   "source": [
    "soup = BeautifulSoup(page_archive.content, 'html.parser')"
   ]
  },
  {
   "cell_type": "code",
   "execution_count": 167,
   "metadata": {},
   "outputs": [],
   "source": [
    "def parse_archive_article(article):\n",
    "    title = article.find('p').text\n",
    "    part_url = article.find('a')['href']\n",
    "    article_info = article.find('p', class_='smallFont mt10').text\n",
    "    comm_count, date  = article_info.split(' ')\n",
    "\n",
    "    return title, part_url, comm_count, date"
   ]
  },
  {
   "cell_type": "code",
   "execution_count": 172,
   "metadata": {},
   "outputs": [
    {
     "ename": "SyntaxError",
     "evalue": "unexpected EOF while parsing (<ipython-input-172-c8c86c28bef6>, line 7)",
     "output_type": "error",
     "traceback": [
      "\u001b[1;36m  File \u001b[1;32m\"<ipython-input-172-c8c86c28bef6>\"\u001b[1;36m, line \u001b[1;32m7\u001b[0m\n\u001b[1;33m    \u001b[0m\n\u001b[1;37m    ^\u001b[0m\n\u001b[1;31mSyntaxError\u001b[0m\u001b[1;31m:\u001b[0m unexpected EOF while parsing\n"
     ]
    }
   ],
   "source": [
    "def gather_articles(archive_page):\n",
    "    article_elems = soup.find_all('td')\n",
    "    a_elems = i.find_all('div')\n",
    "    for j in a_elems:\n",
    "        if len(j.find_all('a')) == 1:\n",
    "            print(type(parse_archive_article(j))\n",
    "        "
   ]
  },
  {
   "cell_type": "code",
   "execution_count": 169,
   "metadata": {},
   "outputs": [
    {
     "name": "stdout",
     "output_type": "stream",
     "text": [
      "Załamanie cen ropy i spadki na rynku akcji - relacja live /zalamanie-cen-ropy-i-spadki-na-rynku-akcji-relacja-live.html 09.03.2020 186 ====\n",
      "Jak wykorzystuje się wirusa do celów politycznych? /jak-wykorzystuje-sie-wirusa-do-celow-politycznych.html 06.03.2020 363 ====\n",
      "Konferencja Invest Cuffs 2020 /konferencja-invest-cuffs-2020.html 05.03.2020 135 ====\n",
      "2010 vs 2020 - co przyniesie nowa dekada? /2010-vs-2020-co-przyniesie-nowa-dekada.html 02.03.2020 342 ====\n",
      "Koronawirus w akcji. Czy inwestorzy powinni się obawiać? /koronawirus-w-akcji-czy-inwestorzy-powinni-sie-obawiac.html 27.02.2020 584 ====\n",
      "Złoto rekordowo drogie. Co dalej? /zloto-rekordowo-drogie-co-dalej.html 25.02.2020 253 ====\n",
      "Co dalej z Unią Europejską? - Trader21 wRealu24 /co-dalej-z-unia-europejska-trader21-wrealu24.html 21.02.2020 480 ====\n",
      "Najważniejsze wydarzenia minionych tygodni - Luty 2020 /najwazniejsze-wydarzenia-minionych-tygodni-luty-2019-1.html 19.02.2020 194 ====\n",
      "Czy można dorobić się na giełdzie? – wywiady dla namzalezy.pl /czy-mozna-dorobic-sie-na-gieldzie-wywiady-dla-namzalezy-pl.html 16.02.2020 194 ====\n",
      "Książka Tradera21 pod ostrzałem - wywiady dla namzalezy.pl /ksiazka-tradera21-pod-ostrzalem-wywiady-dla-namzalezy-pl.html 13.02.2020 171 ====\n",
      "Trendy na 2020 rok - cz. 4 /trendy-na-2020-rok-cz-4.html 10.02.2020 296 ====\n",
      "Trendy na 2020 rok - cz. 3 /trendy-na-2020-rok-cz-3.html 05.02.2020 387 ====\n",
      "Dołącz do zespołu Independent Finance! /dolacz-do-zespolu-independent-finance.html 30.01.2020 32 ====\n",
      "Trendy na 2020 rok - cz. 2 /trendy-na-2020-rok-cz-2.html 29.01.2020 555 ====\n",
      "Trendy na 2020 rok - cz. 1 /trendy-na-2020-rok-cz-1.html 24.01.2020 250 ====\n",
      "Czy jesteśmy skazani na socjalizm? /czy-jestesmy-skazani-na-socjalizm.html 17.01.2020 458 ====\n",
      "Które rynki wybrać w 2020 roku - cz. 2? /ktore-rynki-wybrac-w-2020-roku-cz-2.html 10.01.2020 250 ====\n",
      "Które rynki wybrać w 2020 roku? Cz. 1 /ktore-rynki-wybrac-w-2020-roku-cz-1.html 08.01.2020 106 ====\n",
      "Wykresy miesiąca - grudzień 2019 /wykresy-miesiaca-grudzien-2019.html 31.12.2019 460 ====\n",
      "Najważniejsze wydarzenia minionych tygodni - Grudzień 2019 /najwazniejsze-wydarzenia-minionych-tygodni-grudzien-2019.html 20.12.2019 399 ====\n",
      "Książka Tradera21 już dostępna! /ksiazka-tradera21-w-przedsprzedazy.html 15.12.2019 226 ====\n",
      "Analiza rynku nieruchomości 2019 cz. 3 /analiza-rynku-nieruchomosci-2019-cz-3.html 12.12.2019 216 ====\n",
      "Analiza rynku nieruchomości 2019 cz. 2 /analiza-rynku-nieruchomosci-2019-cz-2.html 10.12.2019 114 ====\n",
      "Analiza rynku nieruchomości 2019 cz. 1 /analiza-rynku-nieruchomosci-2019-cz-1.html 06.12.2019 164 ====\n",
      "Czy już czas kupować polskie akcje? /czy-juz-czas-kupowac-polskie-akcje.html 02.12.2019 174 ====\n",
      "Wykresy miesiąca - listopad 2019 /wykresy-miesiaca-listopad-2019.html 29.11.2019 74 ====\n",
      "Jak rozwijać własną firmę? /jak-rozwijac-wlasna-firme.html 26.11.2019 154 ====\n",
      "Czy będzie rozłam w strefie euro? /czy-bedzie-rozlam-w-strefie-euro.html 22.11.2019 155 ====\n",
      "Jak założyć firmę za granicą i nie płacić ZUS? /jak-zalozyc-firme-za-granica-i-nie-placic-zus.html 19.11.2019 96 ====\n",
      "Spółki dla inwestorów i dla ulicy /spolki-dla-inwestorow-i-dla-ulicy.html 15.11.2019 139 ====\n",
      "Najważniejsze wydarzenia minionych tygodni - Listopad 2019 /najwazniejsze-wydarzenia-minionych-tygodni-listopad-2019.html 12.11.2019 147 ====\n",
      "PKB - wskaźnik fałszujący rzeczywistość /pkb-wskaznik-falszujacy-rzeczywistosc.html 08.11.2019 128 ====\n",
      "Wywiady dla Parkietu, Comparic i VETO /wywiady-dla-parkietu-comparic-i-veto.html 07.11.2019 55 ====\n",
      "Modern Monetary Theory, czyli jak pozbyć się długu /modern-monetary-theory-czyli-jak-pozbyc-sie-dlugu.html 04.11.2019 186 ====\n",
      "Q&A u Wapniaka /q-a-u-wapniaka.html 31.10.2019 178 ====\n",
      "Jakie aktywa zdominują kolejną hossę? /jakie-aktywa-zdominuja-kolejna-hosse.html 28.10.2019 151 ====\n",
      "Wywiad w Bentleyu /wywiad-w-bentleyu.html 24.10.2019 157 ====\n",
      "Jak inwestor może wzmocnić swoją psychikę? /jak-inwestor-moze-wzmocnic-swoja-psychike.html 21.10.2019 147 ====\n",
      "Dlaczego ponownie zainteresowałem się polską giełdą? /dlaczego-ponownie-zainteresowalem-sie-polska-gielda.html 18.10.2019 117 ====\n",
      "FED wraca do dodruku. Co z rynkiem akcji? /fed-wraca-do-dodruku-co-z-rynkiem-akcji.html 16.10.2019 106 ====\n",
      "Najważniejsze wydarzenia minionych tygodni - Październik 2019 /najwazniejsze-wydarzenia-minionych-tygodni-pazdziernik-2019.html 11.10.2019 207 ====\n",
      "Klub Inwestorek /klub-inwestorek.html 09.10.2019 14 ====\n",
      "Trader21 dla Namzalezy.pl - cz. 2 /trader21-dla-namzalezy-pl-cz-2.html 08.10.2019 175 ====\n",
      "Bezpłatna konferencja online /xtb-masterclass-2019.html 07.10.2019 29 ====\n",
      "Uwaga na lewarowane ETN'y /uwaga-na-lewarowane-etn-y.html 04.10.2019 87 ====\n",
      "Kiedy frank po 5 złotych ? /kiedy-frank-po-5-zl.html 01.10.2019 407 ====\n",
      "Trader21 dla Namzalezy.pl - cz. 1 /trader21-dla-namzalezy-pl-czesc-1.html 25.09.2019 266 ====\n",
      "Trump igra z ogniem /trump-igra-z-ogniem.html 21.09.2019 201 ====\n",
      "Inwestuj globalnie z brokerem Exante /wa.html 17.09.2019 279 ====\n",
      "Jakie są pierwsze oznaki recesji? /jakie-sa-pierwsze-oznaki-recesji.html 13.09.2019 185 ====\n"
     ]
    }
   ],
   "source": [
    "for i in article_elems:\n",
    "    a_elems = i.find_all('div')\n",
    "    for j in a_elems:\n",
    "        if len(j.find_all('a')) == 1:\n",
    "            parse_archive_article(j)\n",
    "        \n",
    "            "
   ]
  }
 ],
 "metadata": {
  "kernelspec": {
   "display_name": "Python 3",
   "language": "python",
   "name": "python3"
  },
  "language_info": {
   "codemirror_mode": {
    "name": "ipython",
    "version": 3
   },
   "file_extension": ".py",
   "mimetype": "text/x-python",
   "name": "python",
   "nbconvert_exporter": "python",
   "pygments_lexer": "ipython3",
   "version": "3.6.7"
  }
 },
 "nbformat": 4,
 "nbformat_minor": 2
}
