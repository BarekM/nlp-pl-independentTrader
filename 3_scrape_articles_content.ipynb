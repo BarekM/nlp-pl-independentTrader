{
 "cells": [
  {
   "cell_type": "code",
   "execution_count": 1,
   "metadata": {},
   "outputs": [],
   "source": [
    "import re\n",
    "import time\n",
    "\n",
    "import requests\n",
    "from bs4 import BeautifulSoup"
   ]
  },
  {
   "cell_type": "code",
   "execution_count": 2,
   "metadata": {},
   "outputs": [],
   "source": [
    "# read article data\n",
    "path_articles_data = 'trader_articles.csv'\n",
    "articles = []\n",
    "with open(path_articles_data, encoding='utf8') as f:\n",
    "    articles = [a.split(',') for a in f.read().split('\\n')]"
   ]
  },
  {
   "cell_type": "code",
   "execution_count": 61,
   "metadata": {},
   "outputs": [],
   "source": [
    "def scrape_article(url_article):\n",
    "    try:\n",
    "#         time.sleep(3)\n",
    "        print('Scraping started...')\n",
    "        page_article = requests.get(url_article)\n",
    "        soup = BeautifulSoup(page_article.content, 'html.parser')\n",
    "        article = ''\n",
    "        author = ''\n",
    "        tags = []\n",
    "\n",
    "        body = soup.find('div', class_='postContent')\n",
    "        paragraphs = body.find_all('p')\n",
    "        for p in paragraphs:\n",
    "            if p.find('em'):\n",
    "                author += p.text.strip() + ' '\n",
    "                continue\n",
    "            if p.text.strip():\n",
    "                article += p.text.strip() + ' '\n",
    "\n",
    "        tags_list = soup.find('ul', class_='tagsList').find_all('a')\n",
    "        tags = [a.text for a in tags_list]\n",
    "\n",
    "        article = article.strip().replace('\\xa0', ' ').replace('\\r', '').replace('\\n', ' ')\n",
    "        author = author.strip().replace('\\xa0', ' ')\n",
    "        return 0, article, author, tags\n",
    "    except Exception as e:\n",
    "        return 1, str(e)"
   ]
  },
  {
   "cell_type": "code",
   "execution_count": 62,
   "metadata": {},
   "outputs": [
    {
     "name": "stdout",
     "output_type": "stream",
     "text": [
      "https://independenttrader.pl/prawda-o-bankach-centralnych.html\n",
      "Scraping started...\n"
     ]
    },
    {
     "data": {
      "text/plain": [
       "(0,\n",
       " 'Czy banki centralne są instytucjami rządowymi jak się powszechnie uważa? Czy aby na pewno działają w interesie społeczeństwa? Czy reagują w odpowiedni sposób regulując podaż pieniądza oraz stopy procentowe? Poniższy artykuł przedstawia historię banków centralnych oraz obrazuje ich prawdziwą naturę. „Wierzę, że instytucje bankowe są bardziej niebezpieczne od armii. Jeżeli kiedykolwiek Amerykanie pozwolą prywatnym bankom emitować pieniądz, banki i korporacje które wyrosną wokół nich bedą grabić majątki ludzi, dopóki ich dzieci nie obudzą się bezdomne na kontynencie, który podbili ich ojcowie. Emisja pieniądza powinna być odebrana bankom i przekazana w ręce ludzi“. Thomas Jefferson Angielski król George II zlikwidował wolną od długu walutę, której używała kolonia wymuszając pożyczanie pieniędzy od Banku Centralnego Anglii na procent szybko wpędzając kolonie w długi. Banjamin Franklin napisał później: „Odmowa Króla pozwolenia koloniom na używanie  uczciwego systemu monetarnego, który uwolniłby zwykłego człowieka ze szponów manipulatorów finansowych była parwdopodobnie główną przyczyną rewolucji.“ W 1783 Ameryka wywalczyła niepodłegłość od Anglii ale jej walka z ideą banku centralnego i chęcią chwiwych bankierów dopiero się zaczęła. Czym jest bank centralny? Bank centralny to instytucja produkująca walutę całego narodu. Powszechnie wiadomo, że banki mają 2 szczególne cele: kontrola oprocentowania i kontrola ilości pieniądza w obiegu. Centralny Bank nie dostarcza zwyczajnie krajowi pieniędzy poprzez ich wydrukowanie lecz drukuje i pożycza je na procent. Potem, przez regulację wzrostu bądź spadku ilości pieniądzy w obiegu, bank reguluje wartość pieniądza. Ważne jest zrozumienie, że cała struktura tego systemu na dłuższą metę może wytworzyć tylko jedno – DŁUG. Nie trzeba się natrudzić żeby zauważyć, że to oszustwo bo każdy stworzony z niczego pieniądz pożyczany jest na procent. Oznacza to, że każdy dolar to dolar + pewien procent długu od tego dolara. Od kiedy bank centralny ma monopol na produkcję waluty całego kraju pożycza każdego dolara z natychmiastowym długiem przypisanym do niego. Skąd więc pochodza pieniądze na spłacenie długu? Mogą pochodzić tylko z banku centralnego. Oznacza to że Bank centralny nieustannie zwiększa podaż / produkcję pieniedzy dla pokrycia  tymczasowego długu. Nowe pieniądze oczywiście też pożycza na procent. W rezultacie powstaje jeszcze większy dług. Nie ma możlliwości aby rząd czy też społeczeństwo kiedykolwiek spłaciło samotworzący się dług. Bank Rezerwy Federalnej - FED Na poczatku XX wieku USA wprowadziło i usunęło kilka elemenów banku centralnego do swojego systemu monetarnego. W tamtym czasie dominującymi rodzinami w światowej bankowości byli: Rockefelerowie, Morganowie, Warburgowie, Rothildowie. Na początku  XX wieku po raz kolejny starali sie przepchnąć ustawę  ustanawiającą bank centralny. Wiedzieli, że rząd i społeczeństwo nie chcieli takiej instytucji, dlatego potrzebowali  jakiegoś zdarzenia, które zmieni opinię publiczną. J.P Morgan  wykorzystując swe wpływy rozpuścił plotkę, że ważny bank w Nowym Yorku jest niewypłacalny i zaraz zbankrutuje. Morgan wiedział, że to wywoła masową histerię, która dotknie także inne banki. Tak też się stało. W obawie przed utratą swoich depozytów, ludzie zaczeli masowo wycofywać pieniądze. Banki zostały zmuszone do natychmiastowego ściągnięcia pożyczek. Ludzie by je spłacić musieli sprzedać swoje nieruchomości. Wywołało to falę bankructw. Kilka lat później Frederi Allen z magazynu Life napisał: „Interesy Morgana wykorzystały przyśpieszenie paniki z roku 1907 sprytnie nią sterując.“ Rozpoczęto śledztwo przed kongresem prowadzone przez senatora  Nelsona Aldricha mającego bliskie związki z kartelami bankowymi, który później wżenił się w rodzinę Rokefellerów. Komisja, której przewodniczył Frederi Allen, rekomendowała utworzenie banku centralnego, aby panika taka jak ta z 1907r nigdy sie nie powtórzyła. To była iskra, która kazała międzynarodowym bankierom zainicjować ich plan. W 1910r. w posiadłości Morgana na wyspie Jeckyll Island, odbyło się tajne spotkanie. Został tam podpisany Akt Rezerwy Federalnej – projekt ustawy o Banku Centralnym. Ta ustawa została podpisana przez bankierów, nie przez kongresmenów. Spotkanie było tak tajne przed rządem i opinią publiczną, że osoby uczestniczące w tym spotkaniu mogły sie do siebie zwracać używając tylko pierwszego imienia. Kiedy ustawa została stworzona, została wręczona ich liderowi w kongresie – senatorowi Aldrichowi, żeby ten przepchnął ją przez kongres. W 1913r z wielką pomocą finansową bankierów prezydentem został Woodrow Willson, który obiecał poprzeć ustawę o Rezerwie Federalnej z zamian za sponsoring kampanii wyborczej. Dwa dni przed Bożym Narodzeniem, kiedy to większość kongresmenów była w domach Akt Rezerwy Federalnej został przegłosowany i prezydent Willson wprowadził go w życie. Kongresmen Louis MacFaden, zagorzały przeciwnik banku centralnego podsumował: „Został tu stworzony światowy system bankowy, superpaństwo kontrolowane przez  międzynarodowych bankierów działających wspólnie by zniewolić świat dla własnej przyjemności. System Rezerwy Federalnej panuje nad rządem.“ Ludziom powiedziano, że FED jest ekonomicznym stabilizatorem. Inflacja i krysys należą do przeszłości. Jak historia pokazała, nic nie jest dalsze od prawdy. Fakty są takie, że teraz międzynarodowi bankierzy mają wspaniałą maszynę do rozwijania osobistych ambicji. Od roku 1914 do 1919 FED zwiększył  ilość pieniędzy w obiegu o prawie 100 %. FED decydując o ilości pieniądza w obiegu, podwoił go w ciągu niespełna 5 lat. Mając łatwy dostęp do pieniądza małe banki zaciągały masowo pożyczki w FED. Natępnie w roku 1920 FED wezwał wszystkich do spłaty. Małe banki musiały natychmiast wypowiadać pożyczki swoim kilentom by móc samemu spłacić swoje zobowiązania względem FED’u. Powtórzyła się sytuacja z roku 1907. Większość małych banków zbankrutowała. Pojawiła się zapaść w gospodarce. Ponad 5400 banków z poza Federalnego Systemu Rezerwy przestało istnieć. Potem nastąpiła konsolidacja monopolu małej grupy międzynarodowych bankierów. Wtajemniczony w to kongresmen Lindbergh powiedział w 1921r: „Panika została spreparowana dzięki aktowi o FED. Obecna panika jest pierwszą wytworzoną naukowo, wg. matemetycznego równania“ Panika z roku 1920 była tylko rozgrzewką. Od roku 1921 do 1929 FED ponownie zwiększył podaż pieniądza co znów poskutkowało zwiększeniem pożyczek dla banków. Na giełdzie pojawił sie też nowy kredyt zwany marginalnym. Pozwalał on inwestorom chcącym kupić akcje wyłożyć tylko 10 % swoich pieniędzy. Pozostałe 90% mogli pożyczyć od brokera. Inaczej mówiąc, każdy mógł kupić akcje za 1000 USD mając tylko 100 USD wkładu własnego. Inwestowanie takie było bardzo popularne w czasie bumu z lat 20-tych. Każdemu wydawało się, że może zarobić pieniądze na giełdzie. W umowie kredytowej z brokerem był jednak haczyk. Kredyt mógł być wypowiedziany w każdym momencie dając inwestorowi 24 godziny na jego spłatę. W ciagu 8 lat mania giełdowa zaraziła większość społeczeństwa podnosząć ceny akcji 6-krotnie. Kilka miesięczy przed październikiem 1929r bankierzy powiązani z FED zaczęli po cichu wycofywać pieniądze z giełdy, a 24 października 1929r  finansiści z Nowego Yorku, zaczeli masowo wzywać do spłaty kredytów udzielanych na zakup akcji. Spowodowało to masową wyprzedaż akcji na giełdzie by każdy mógł spłacić swoją pożyczkę. Doprowadziło to do masowych bankructw. Załamało się łącznie 16.000 banków. Załamanie się cen pozwoliło międzynarodowym bankierom na przejęcie zbankrutowanych banków oraz wielkich koporacji płacąc po kilka procent ich realnej wartości. Była to największa grabierz mienia w historii USA. Raz jeszcze odwieczny przeciwnik karteli bankowch kongresmen Louis McFadden rozpoczął procedurę odwoławczą Federalnego Systemu Rezerwy słusznie winiąc ją za zaistniałą sytuację: „To była ukartowana akcja. Międzynarodowi bankierzy (właściciele FED’u) chcieli wykreować klimat rozpaczy by zapanować nad nami wszystkimi.“ Po 2 wcześniejszych próbach zabójstwa, McFadden został otruty nim zdążył wdrożyć procedurę obalenia FED’u. Jedyną przeszkodą w dowolym sterowaniu podażą pieniądza a tym samym okresami boomów i zapaści gospodarczych był standard złota. FED mógł wprowadzić do systemu tylko tyle pieniądza ile miało pokrycie w złocie. Po panice z roku 1929, bankierzy powiązani z FED zdecydowali się usunąć standard złota. Musieli więc przejąć złoto fizycznie z rąk obywateli. Pod pretekstem pomocy w zakończeniu  depresji w 1933r rozpoczął się przymusowy skup złota. Pod karą 10 lat więzienia, każdy musiał oddać swoje złoto do skarbca po ściśle ustalonej cenie. W roku 1933 standard złota został zniesiony. Na każdym banknocie dolarowym przed 1933 r widniał napis „wymienialny na złoto“. Na obecnym dolarze możemy wyczytać „prawny środek płatniczy“ co oznacza, iż nie ma pokrycia w niczym oraz można go wydrukować ile tylko FED sobie zamarzy. Ilość pieniądza w obiegu reguluje wartość pieniądza. Im więcej pieniadza w obiegu, tym ludzie mogą więcej wydać. Sprzedawcy mając więcej klientów, podnoszą ceny. W efekcie rosną ceny niemalże każdego produktu. Pieniądz staje się mniej warty. Manipulacja podażą pieniądza jest w stania rzucić na kolana całe społeczeństwa. „Dajcie mi kontrolę nad podażą pieniądza, a przestanie mnie obchodzić kto stanowi prawo.“ – M.A Rotschild – założyciel bankowej dynastii Rotschildów. To ważne żeby dobrze zrozumieć: FED nie jest instytucją rządową, jest prywatną korporacją. Ustala swoje własne prawa. Nie był audytowany od ponad 50 lat. Działa w interesie swoich akcjonariuszy (Rotschild Bank of London, Wahrburg Bank of Hamburg, Chase Manhattan, Goldman Sachs, i inne banki bezpośrednio lub za pośrednictwem różnego rodzaju Trustów). FED jest także poza jakąkolwiek regulacją rządu USA. To prywatny kartel bankowy, który na procent pożycza wszystkie pieniądze rządowi drukując je po koszcie zero. FED jest tylko jednym z banków centralnych lecz jednocześniej najbardziej znanym. Kolejne banki ściśle powiązane z FED to Europejski Bank Centralny, Bank Anglii, Bank Japonii. Praktycznie każdy bank centralny na świecie jest albo powiązany kapitałowo albo działa na zasadzie banku marionetkowego. Jadnym z nieliczych krajów na świecie, w którym nie było typowego banku centralnego była Libia. Rząd tego kraju emitował wolnego od długu Dinara Libijskiego. Pierwszą decyzją nowych władz Libii po zdobyciu Trypolisu było założenie banku centralnego, który odtąd pożycza Libii pieniądze, oczywiście na określony procent. Jak powiązane są banki centralne może świadczyć polityka zkoordynowanego obniżenia stóp procentowych na całym świecie zaraz po kryzysie 2007 – 2008. Głównym „oficjalnym“ celem banku centralnego jest zapobieganie lub kontrolowanie inflacji. Inflacja w dużym uproszczeniu jest wzrostem cen generalnie wszystkich towarów. By ją zwalczać bank centralny ustanawia stopy procentowe po jakich pożycza pieniądze bankom na poziomie minimalnie wyższym od inflacji. W momencie kryzysu banki centralne w całym zachodnim świecie jak oszalałe obniżały stopy procentowe do minimum. Przy realnej inflacji rzędu 5 %, stopy procentowe kształtowały się na poziomie 0,25 – 2%. Oficjalnie miało to na celu zwięszenie dostępności kredytów dla przedsiębiorstw i pobudzenie gospodarki. W praktyce, banki na całym świecie otrzymały niemalże darmową gotówkę, którą inwestowały w przecenione akcje i surowce. W ciagu 3 lat zarobiły na tym krocie. Firmy, które miały natomiast pobudzić gosodarkę, kredytów nie otrzymały ponieważ w obliczu kryzysu nie były wiarygodnym partnerem dla banku. Stracił też na tym przeciętny Kowalski, lokując pieniądze w banku na lokacie na 3 – 4 %. Przy inflacji 5 % i więcej Kowalski nie tylko nie zarabia ale również tarci ze swoich pieniędzy co najmniej 2 % rocznie. W decyzjach banków centralnych nie chodzi przecież o zwykłych ludzi tylko o banki w rzeczy samej. Profesorowie oczywiście nie zgodzą się z moimi słowami twierdząc, że może banki centralne są prywatnymi przedsiębiorcami ale przekazują swój zysk do Skarbu Państwa. W wielu przypadkach tak jest. Posłużę się jednak przykładem. Zysk FED’u za rok 2010 to ok 60 mld USD. Załóżmy, że został on przekazany w całości do Skarbu Państwa. W roku 2011 ujawniono, iż poza dotacjami dla banków w wysokości ponad 800 mld USD z roku 2008 FED przekazał ponad 16,5 bilionów pożyczki swoim akcjonariuszom, która do chwili obecnej nie została zwrócona. Pożyczka wynosiła więc 27 razy tyle co zysk przekazany do budżetu i mniej więcej tyle ile wynosi roczny PKB Stanów Zjednoczonych. Europejski Bank Centralny (ECB) w swoich działaniach nie specjalnie różni się od FED’u. W 2 lata po rozpoczęciu procesu ratowania banków w USA przy pomocy pieniędzy z FED‘u, ECB rozpoczął ratowanie banków w Europie na koszt podatnika. W praktyce wyglądało to następująco: gdy rozpoczął się kryzys bankowy, który szczegółowo omówię w innym opracowaniu, wiele banków było na skraju bankructwa na skutek błędnych i bardzo ryzykownych decycji inwestycyjnych. Rządy wielu krajów zostały wręcz zmuszone przez lobby bankowe do ich ratowania  poprzez przekazanie im gotówki.',\n",
       " 'Trader21 Niezależny Portal Finansowy',\n",
       " ['banki', 'FED', 'dług', 'świat'])"
      ]
     },
     "execution_count": 62,
     "metadata": {},
     "output_type": "execute_result"
    }
   ],
   "source": [
    "url_article = 'https://independenttrader.pl' + articles[1][2]\n",
    "print(url_article)\n",
    "scrape_article(url_article)"
   ]
  }
 ],
 "metadata": {
  "kernelspec": {
   "display_name": "Python 3",
   "language": "python",
   "name": "python3"
  },
  "language_info": {
   "codemirror_mode": {
    "name": "ipython",
    "version": 3
   },
   "file_extension": ".py",
   "mimetype": "text/x-python",
   "name": "python",
   "nbconvert_exporter": "python",
   "pygments_lexer": "ipython3",
   "version": "3.6.7"
  }
 },
 "nbformat": 4,
 "nbformat_minor": 2
}
